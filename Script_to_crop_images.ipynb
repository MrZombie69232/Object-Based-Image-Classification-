{
 "cells": [
  {
   "cell_type": "code",
   "execution_count": 1,
   "metadata": {},
   "outputs": [],
   "source": [
    "import random \n",
    "import rasterio\n",
    "from rasterio.windows import Window"
   ]
  },
  {
   "cell_type": "code",
   "execution_count": 2,
   "metadata": {},
   "outputs": [],
   "source": [
    "with rasterio.open('D:\\\\GEE_Tutorial\\\\Final_tiles\\\\L1C_T29UPV_A013133_20171227T114541.tif') as src_f:\n",
    "\n",
    "    # The size in pixels of your desired window\n",
    "    xsize, ysize = 3000, 3000\n",
    "\n",
    "    # Generate a random window location that doesn't go outside the image\n",
    "    xmin, xmax = 0, src_f.width - xsize\n",
    "    ymin, ymax = 0, src_f.height - ysize\n",
    "    xoff, yoff = random.randint(xmin, xmax), random.randint(ymin, ymax)\n",
    "\n",
    "    # Create a Window and calculate the transform from the source dataset    \n",
    "    window = Window(xoff, yoff, xsize, ysize)\n",
    "    transform = src_f.window_transform(window)\n",
    "\n",
    "    # Create a new cropped raster to write to\n",
    "    profile = src_f.profile\n",
    "    profile.update({\n",
    "        'height': xsize,\n",
    "        'width': ysize,\n",
    "        'transform': transform})\n",
    "\n",
    "    with rasterio.open('D:\\\\GEE_Tutorial\\\\test_crop.tif', 'w', **profile) as dst:\n",
    "        # Read the data from the window and write it to the output raster\n",
    "        dst.write(src.read(window=window))"
   ]
  },
  {
   "cell_type": "code",
   "execution_count": null,
   "metadata": {},
   "outputs": [],
   "source": []
  }
 ],
 "metadata": {
  "kernelspec": {
   "display_name": "Python 3",
   "language": "python",
   "name": "python3"
  },
  "language_info": {
   "codemirror_mode": {
    "name": "ipython",
    "version": 3
   },
   "file_extension": ".py",
   "mimetype": "text/x-python",
   "name": "python",
   "nbconvert_exporter": "python",
   "pygments_lexer": "ipython3",
   "version": "3.8.8"
  }
 },
 "nbformat": 4,
 "nbformat_minor": 4
}
